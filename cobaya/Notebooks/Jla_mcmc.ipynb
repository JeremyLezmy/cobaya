{
 "cells": [
  {
   "cell_type": "code",
   "execution_count": 1,
   "id": "d6e481f5",
   "metadata": {},
   "outputs": [],
   "source": [
    "from cobaya.run import run"
   ]
  },
  {
   "cell_type": "code",
   "execution_count": 3,
   "id": "35e68107",
   "metadata": {},
   "outputs": [
    {
     "name": "stdout",
     "output_type": "stream",
     "text": [
      "[run] *ERROR* You need to specify a sampler using the 'sampler' key as e.g. `sampler: {mcmc: None}.`\n"
     ]
    },
    {
     "ename": "LoggedError",
     "evalue": "You need to specify a sampler using the 'sampler' key as e.g. `sampler: {mcmc: None}.`",
     "output_type": "error",
     "traceback": [
      "\u001b[0;31m---------------------------------------------------------------------------\u001b[0m",
      "\u001b[0;31mKeyError\u001b[0m                                  Traceback (most recent call last)",
      "\u001b[0;32m~/libraries/cobaya/cobaya/run.py\u001b[0m in \u001b[0;36mrun\u001b[0;34m(info_or_yaml_or_file, packages_path, output, debug, stop_at_error, resume, force, no_mpi, test, override)\u001b[0m\n\u001b[1;32m     95\u001b[0m         \u001b[0;32mtry\u001b[0m\u001b[0;34m:\u001b[0m\u001b[0;34m\u001b[0m\u001b[0;34m\u001b[0m\u001b[0m\n\u001b[0;32m---> 96\u001b[0;31m             \u001b[0mwhich_sampler\u001b[0m \u001b[0;34m=\u001b[0m \u001b[0mlist\u001b[0m\u001b[0;34m(\u001b[0m\u001b[0minfo\u001b[0m\u001b[0;34m[\u001b[0m\u001b[0;34m\"sampler\"\u001b[0m\u001b[0;34m]\u001b[0m\u001b[0;34m)\u001b[0m\u001b[0;34m[\u001b[0m\u001b[0;36m0\u001b[0m\u001b[0;34m]\u001b[0m\u001b[0;34m\u001b[0m\u001b[0;34m\u001b[0m\u001b[0m\n\u001b[0m\u001b[1;32m     97\u001b[0m         \u001b[0;32mexcept\u001b[0m \u001b[0;34m(\u001b[0m\u001b[0mKeyError\u001b[0m\u001b[0;34m,\u001b[0m \u001b[0mTypeError\u001b[0m\u001b[0;34m)\u001b[0m\u001b[0;34m:\u001b[0m\u001b[0;34m\u001b[0m\u001b[0;34m\u001b[0m\u001b[0m\n",
      "\u001b[0;31mKeyError\u001b[0m: 'sampler'",
      "\nDuring handling of the above exception, another exception occurred:\n",
      "\u001b[0;31mLoggedError\u001b[0m                               Traceback (most recent call last)",
      "\u001b[0;32m<ipython-input-3-8cccf56a3b4e>\u001b[0m in \u001b[0;36m<module>\u001b[0;34m\u001b[0m\n\u001b[0;32m----> 1\u001b[0;31m \u001b[0mupdated_info\u001b[0m\u001b[0;34m,\u001b[0m \u001b[0msampler\u001b[0m \u001b[0;34m=\u001b[0m \u001b[0mrun\u001b[0m\u001b[0;34m(\u001b[0m\u001b[0;34m\"../likelihoods/sn/jla.yaml\"\u001b[0m\u001b[0;34m,\u001b[0m\u001b[0;34m)\u001b[0m\u001b[0;34m\u001b[0m\u001b[0;34m\u001b[0m\u001b[0m\n\u001b[0m",
      "\u001b[0;32m~/libraries/cobaya/cobaya/run.py\u001b[0m in \u001b[0;36mrun\u001b[0;34m(info_or_yaml_or_file, packages_path, output, debug, stop_at_error, resume, force, no_mpi, test, override)\u001b[0m\n\u001b[1;32m     96\u001b[0m             \u001b[0mwhich_sampler\u001b[0m \u001b[0;34m=\u001b[0m \u001b[0mlist\u001b[0m\u001b[0;34m(\u001b[0m\u001b[0minfo\u001b[0m\u001b[0;34m[\u001b[0m\u001b[0;34m\"sampler\"\u001b[0m\u001b[0;34m]\u001b[0m\u001b[0;34m)\u001b[0m\u001b[0;34m[\u001b[0m\u001b[0;36m0\u001b[0m\u001b[0;34m]\u001b[0m\u001b[0;34m\u001b[0m\u001b[0;34m\u001b[0m\u001b[0m\n\u001b[1;32m     97\u001b[0m         \u001b[0;32mexcept\u001b[0m \u001b[0;34m(\u001b[0m\u001b[0mKeyError\u001b[0m\u001b[0;34m,\u001b[0m \u001b[0mTypeError\u001b[0m\u001b[0;34m)\u001b[0m\u001b[0;34m:\u001b[0m\u001b[0;34m\u001b[0m\u001b[0;34m\u001b[0m\u001b[0m\n\u001b[0;32m---> 98\u001b[0;31m             raise LoggedError(\n\u001b[0m\u001b[1;32m     99\u001b[0m                 \u001b[0mlogger_run\u001b[0m\u001b[0;34m,\u001b[0m \u001b[0;34m\"You need to specify a sampler using the 'sampler' key \"\u001b[0m\u001b[0;34m\u001b[0m\u001b[0;34m\u001b[0m\u001b[0m\n\u001b[1;32m    100\u001b[0m                             \"as e.g. `sampler: {mcmc: None}.`\")\n",
      "\u001b[0;31mLoggedError\u001b[0m: You need to specify a sampler using the 'sampler' key as e.g. `sampler: {mcmc: None}.`"
     ]
    }
   ],
   "source": [
    "updated_info, sampler = run(\"../likelihoods/sn/jla.yaml\",)"
   ]
  },
  {
   "cell_type": "code",
   "execution_count": null,
   "id": "7c10740e",
   "metadata": {},
   "outputs": [],
   "source": []
  }
 ],
 "metadata": {
  "kernelspec": {
   "display_name": "Python 3",
   "language": "python",
   "name": "python3"
  },
  "language_info": {
   "codemirror_mode": {
    "name": "ipython",
    "version": 3
   },
   "file_extension": ".py",
   "mimetype": "text/x-python",
   "name": "python",
   "nbconvert_exporter": "python",
   "pygments_lexer": "ipython3",
   "version": "3.8.8"
  }
 },
 "nbformat": 4,
 "nbformat_minor": 5
}
